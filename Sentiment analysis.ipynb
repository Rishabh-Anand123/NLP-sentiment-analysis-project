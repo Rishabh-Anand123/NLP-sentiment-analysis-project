{
 "cells": [
  {
   "cell_type": "code",
   "execution_count": 1,
   "id": "dc1cb529",
   "metadata": {
    "_cell_guid": "b1076dfc-b9ad-4769-8c92-a6c4dae69d19",
    "_uuid": "8f2839f25d086af736a60e9eeb907d3b93b6e0e5",
    "execution": {
     "iopub.execute_input": "2024-08-22T15:27:58.467078Z",
     "iopub.status.busy": "2024-08-22T15:27:58.466612Z",
     "iopub.status.idle": "2024-08-22T15:28:01.910600Z",
     "shell.execute_reply": "2024-08-22T15:28:01.909695Z"
    },
    "papermill": {
     "duration": 3.451849,
     "end_time": "2024-08-22T15:28:01.913153",
     "exception": false,
     "start_time": "2024-08-22T15:27:58.461304",
     "status": "completed"
    },
    "tags": []
   },
   "outputs": [],
   "source": [
    "import numpy as np \n",
    "import pandas as pd \n",
    "import matplotlib.pyplot as plt\n",
    "import seaborn as sns\n",
    "\n",
    "plt.style.use('ggplot')\n",
    "\n",
    "import nltk"
   ]
  },
  {
   "cell_type": "code",
   "execution_count": 2,
   "id": "f2c95e2c",
   "metadata": {
    "execution": {
     "iopub.execute_input": "2024-08-22T15:28:01.921631Z",
     "iopub.status.busy": "2024-08-22T15:28:01.921056Z",
     "iopub.status.idle": "2024-08-22T15:28:10.556805Z",
     "shell.execute_reply": "2024-08-22T15:28:10.555777Z"
    },
    "papermill": {
     "duration": 8.642722,
     "end_time": "2024-08-22T15:28:10.559354",
     "exception": false,
     "start_time": "2024-08-22T15:28:01.916632",
     "status": "completed"
    },
    "tags": []
   },
   "outputs": [],
   "source": [
    "df = pd.read_csv('/kaggle/input/amazon-fine-food-reviews/Reviews.csv')\n",
    "df = df.head(200000)"
   ]
  },
  {
   "cell_type": "code",
   "execution_count": 3,
   "id": "8a3d19f5",
   "metadata": {
    "execution": {
     "iopub.execute_input": "2024-08-22T15:28:10.567395Z",
     "iopub.status.busy": "2024-08-22T15:28:10.567001Z",
     "iopub.status.idle": "2024-08-22T15:28:10.572590Z",
     "shell.execute_reply": "2024-08-22T15:28:10.571632Z"
    },
    "papermill": {
     "duration": 0.012629,
     "end_time": "2024-08-22T15:28:10.575274",
     "exception": false,
     "start_time": "2024-08-22T15:28:10.562645",
     "status": "completed"
    },
    "tags": []
   },
   "outputs": [
    {
     "name": "stdout",
     "output_type": "stream",
     "text": [
      "(200000, 10)\n"
     ]
    }
   ],
   "source": [
    "print(df.shape)"
   ]
  },
  {
   "cell_type": "code",
   "execution_count": 4,
   "id": "1bbb4a40",
   "metadata": {
    "execution": {
     "iopub.execute_input": "2024-08-22T15:28:10.583463Z",
     "iopub.status.busy": "2024-08-22T15:28:10.583072Z",
     "iopub.status.idle": "2024-08-22T15:28:10.891989Z",
     "shell.execute_reply": "2024-08-22T15:28:10.890971Z"
    },
    "papermill": {
     "duration": 0.315666,
     "end_time": "2024-08-22T15:28:10.894347",
     "exception": false,
     "start_time": "2024-08-22T15:28:10.578681",
     "status": "completed"
    },
    "tags": []
   },
   "outputs": [
    {
     "data": {
      "image/png": "[encoded data removed]",
      "text/plain": [
       "<Figure size 1000x500 with 1 Axes>"
      ]
     },
     "metadata": {},
     "output_type": "display_data"
    }
   ],
   "source": [
    "ax = df['Score'].value_counts().sort_index().plot(kind='bar', title='count of review by stars', figsize=(10,5))\n",
    "\n",
    "ax.set_xlabel('Review stars')\n",
    "\n",
    "plt.show()"
   ]
  },
  {
   "cell_type": "code",
   "execution_count": 5,
   "id": "42672faa",
   "metadata": {
    "execution": {
     "iopub.execute_input": "2024-08-22T15:28:10.903412Z",
     "iopub.status.busy": "2024-08-22T15:28:10.903033Z",
     "iopub.status.idle": "2024-08-22T15:28:10.908770Z",
     "shell.execute_reply": "2024-08-22T15:28:10.907663Z"
    },
    "papermill": {
     "duration": 0.013243,
     "end_time": "2024-08-22T15:28:10.911365",
     "exception": false,
     "start_time": "2024-08-22T15:28:10.898122",
     "status": "completed"
    },
    "tags": []
   },
   "outputs": [
    {
     "name": "stdout",
     "output_type": "stream",
     "text": [
      "These are a favorite at our home. We like the ones that have Sea Salt. We also like Barbeque  flavored. These are not ruffly chips that have ridges. These are thickly cut plain slice potatoes. They are thick and crunchy and have a great texture in your mouth. They also have a great taste. The sea salt ones, which are a favorite, have just enough salt to have salt but not so much that you feel like you have to drink a gallon of water with your chips.<br /><br />Enjoy.\n"
     ]
    }
   ],
   "source": [
    "example = df['Text'][504]\n",
    "print(example)"
   ]
  },
  {
   "cell_type": "code",
   "execution_count": 6,
   "id": "05e0b4b3",
   "metadata": {
    "execution": {
     "iopub.execute_input": "2024-08-22T15:28:10.920767Z",
     "iopub.status.busy": "2024-08-22T15:28:10.919971Z",
     "iopub.status.idle": "2024-08-22T15:28:10.940137Z",
     "shell.execute_reply": "2024-08-22T15:28:10.939077Z"
    },
    "papermill": {
     "duration": 0.027373,
     "end_time": "2024-08-22T15:28:10.942530",
     "exception": false,
     "start_time": "2024-08-22T15:28:10.915157",
     "status": "completed"
    },
    "tags": []
   },
   "outputs": [
    {
     "data": {
      "text/plain": [
       "['These', 'are', 'a', 'favorite', 'at', 'our', 'home', '.', 'We', 'like']"
      ]
     },
     "execution_count": 6,
     "metadata": {},
     "output_type": "execute_result"
    }
   ],
   "source": [
    "tokens = nltk.word_tokenize(example)\n",
    "\n",
    "tokens[:10]"
   ]
  },
  {
   "cell_type": "code",
   "execution_count": 7,
   "id": "cf4db697",
   "metadata": {
    "execution": {
     "iopub.execute_input": "2024-08-22T15:28:10.952859Z",
     "iopub.status.busy": "2024-08-22T15:28:10.951590Z",
     "iopub.status.idle": "2024-08-22T15:28:11.085121Z",
     "shell.execute_reply": "2024-08-22T15:28:11.084009Z"
    },
    "papermill": {
     "duration": 0.141101,
     "end_time": "2024-08-22T15:28:11.087553",
     "exception": false,
     "start_time": "2024-08-22T15:28:10.946452",
     "status": "completed"
    },
    "tags": []
   },
   "outputs": [
    {
     "data": {
      "text/plain": [
       "[('These', 'DT'),\n",
       " ('are', 'VBP'),\n",
       " ('a', 'DT'),\n",
       " ('favorite', 'NN'),\n",
       " ('at', 'IN'),\n",
       " ('our', 'PRP$'),\n",
       " ('home', 'NN'),\n",
       " ('.', '.'),\n",
       " ('We', 'PRP'),\n",
       " ('like', 'IN')]"
      ]
     },
     "execution_count": 7,
     "metadata": {},
     "output_type": "execute_result"
    }
   ],
   "source": [
    "tagged = nltk.pos_tag(tokens)\n",
    "\n",
    "tagged[:10]"
   ]
  },
  {
   "cell_type": "code",
   "execution_count": 8,
   "id": "96227603",
   "metadata": {
    "execution": {
     "iopub.execute_input": "2024-08-22T15:28:11.097797Z",
     "iopub.status.busy": "2024-08-22T15:28:11.096765Z",
     "iopub.status.idle": "2024-08-22T15:28:11.253515Z",
     "shell.execute_reply": "2024-08-22T15:28:11.252351Z"
    },
    "papermill": {
     "duration": 0.164702,
     "end_time": "2024-08-22T15:28:11.256246",
     "exception": false,
     "start_time": "2024-08-22T15:28:11.091544",
     "status": "completed"
    },
    "tags": []
   },
   "outputs": [
    {
     "name": "stdout",
     "output_type": "stream",
     "text": [
      "(S\n",
      "  These/DT\n",
      "  are/VBP\n",
      "  a/DT\n",
      "  favorite/NN\n",
      "  at/IN\n",
      "  our/PRP$\n",
      "  home/NN\n",
      "  ./.\n",
      "  We/PRP\n",
      "  like/IN\n",
      "  the/DT\n",
      "  ones/NNS\n",
      "  that/WDT\n",
      "  have/VBP\n",
      "  (PERSON Sea/NNP Salt/NNP)\n",
      "  ./.\n",
      "  We/PRP\n",
      "  also/RB\n",
      "  like/VBP\n",
      "  (PERSON Barbeque/NNP)\n",
      "  flavored/VBD\n",
      "  ./.\n",
      "  These/DT\n",
      "  are/VBP\n",
      "  not/RB\n",
      "  ruffly/JJ\n",
      "  chips/NNS\n",
      "  that/WDT\n",
      "  have/VBP\n",
      "  ridges/NNS\n",
      "  ./.\n",
      "  These/DT\n",
      "  are/VBP\n",
      "  thickly/JJ\n",
      "  cut/NN\n",
      "  plain/NN\n",
      "  slice/NN\n",
      "  potatoes/NNS\n",
      "  ./.\n",
      "  They/PRP\n",
      "  are/VBP\n",
      "  thick/JJ\n",
      "  and/CC\n",
      "  crunchy/NN\n",
      "  and/CC\n",
      "  have/VBP\n",
      "  a/DT\n",
      "  great/JJ\n",
      "  texture/NN\n",
      "  in/IN\n",
      "  your/PRP$\n",
      "  mouth/NN\n",
      "  ./.\n",
      "  They/PRP\n",
      "  also/RB\n",
      "  have/VBP\n",
      "  a/DT\n",
      "  great/JJ\n",
      "  taste/NN\n",
      "  ./.\n",
      "  The/DT\n",
      "  sea/NN\n",
      "  salt/NN\n",
      "  ones/NNS\n",
      "  ,/,\n",
      "  which/WDT\n",
      "  are/VBP\n",
      "  a/DT\n",
      "  favorite/JJ\n",
      "  ,/,\n",
      "  have/VB\n",
      "  just/RB\n",
      "  enough/RB\n",
      "  salt/NN\n",
      "  to/TO\n",
      "  have/VB\n",
      "  salt/NNS\n",
      "  but/CC\n",
      "  not/RB\n",
      "  so/RB\n",
      "  much/JJ\n",
      "  that/IN\n",
      "  you/PRP\n",
      "  feel/VBP\n",
      "  like/IN\n",
      "  you/PRP\n",
      "  have/VBP\n",
      "  to/TO\n",
      "  drink/VB\n",
      "  a/DT\n",
      "  gallon/NN\n",
      "  of/IN\n",
      "  water/NN\n",
      "  with/IN\n",
      "  your/PRP$\n",
      "  chips./NN\n",
      "  </NN\n",
      "  br/NN\n",
      "  //NNP\n",
      "  >/NNP\n",
      "  </NNP\n",
      "  br/NN\n",
      "  //NNP\n",
      "  >/NNP\n",
      "  Enjoy/NNP\n",
      "  ./.)\n"
     ]
    }
   ],
   "source": [
    "entities = nltk.chunk.ne_chunk(tagged)\n",
    "entities.pprint()"
   ]
  },
  {
   "cell_type": "code",
   "execution_count": 9,
   "id": "619f4554",
   "metadata": {
    "execution": {
     "iopub.execute_input": "2024-08-22T15:28:11.267109Z",
     "iopub.status.busy": "2024-08-22T15:28:11.266000Z",
     "iopub.status.idle": "2024-08-22T15:28:11.319194Z",
     "shell.execute_reply": "2024-08-22T15:28:11.317834Z"
    },
    "papermill": {
     "duration": 0.061031,
     "end_time": "2024-08-22T15:28:11.321516",
     "exception": false,
     "start_time": "2024-08-22T15:28:11.260485",
     "status": "completed"
    },
    "tags": []
   },
   "outputs": [
    {
     "name": "stderr",
     "output_type": "stream",
     "text": [
      "/opt/conda/lib/python3.10/site-packages/nltk/twitter/__init__.py:20: UserWarning: The twython library has not been installed. Some functionality from the twitter package will not be available.\n",
      "  warnings.warn(\"The twython library has not been installed. \"\n"
     ]
    },
    {
     "data": {
      "text/plain": [
       "{'neg': 0.016, 'neu': 0.816, 'pos': 0.168, 'compound': 0.9062}"
      ]
     },
     "execution_count": 9,
     "metadata": {},
     "output_type": "execute_result"
    }
   ],
   "source": [
    "from nltk.sentiment import SentimentIntensityAnalyzer\n",
    "from tqdm.notebook import tqdm\n",
    "\n",
    "sia = SentimentIntensityAnalyzer()\n",
    "\n",
    "sia.polarity_scores(example)"
   ]
  },
  {
   "cell_type": "code",
   "execution_count": null,
   "id": "d22c51f2",
   "metadata": {
    "papermill": {
     "duration": 0.003946,
     "end_time": "2024-08-22T15:28:11.329916",
     "exception": false,
     "start_time": "2024-08-22T15:28:11.325970",
     "status": "completed"
    },
    "tags": []
   },
   "outputs": [],
   "source": []
  }
 ],
 "metadata": {
  "kaggle": {
   "accelerator": "none",
   "dataSources": [
    {
     "datasetId": 18,
     "sourceId": 2157,
     "sourceType": "datasetVersion"
    }
   ],
   "isGpuEnabled": false,
   "isInternetEnabled": true,
   "language": "python",
   "sourceType": "notebook"
  },
  "kernelspec": {
   "display_name": "Python 3",
   "language": "python",
   "name": "python3"
  },
  "language_info": {
   "codemirror_mode": {
    "name": "ipython",
    "version": 3
   },
   "file_extension": ".py",
   "mimetype": "text/x-python",
   "name": "python",
   "nbconvert_exporter": "python",
   "pygments_lexer": "ipython3",
   "version": "3.10.13"
  },
  "papermill": {
   "default_parameters": {},
   "duration": 16.98896,
   "end_time": "2024-08-22T15:28:12.156470",
   "environment_variables": {},
   "exception": null,
   "input_path": "__notebook__.ipynb",
   "output_path": "__notebook__.ipynb",
   "parameters": {},
   "start_time": "2024-08-22T15:27:55.167510",
   "version": "2.5.0"
  }
 },
 "nbformat": 4,
 "nbformat_minor": 5
}
