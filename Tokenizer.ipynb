{
 "cells": [
  {
   "cell_type": "code",
   "execution_count": 1,
   "id": "9fc1b7f4",
   "metadata": {
    "_cell_guid": "b1076dfc-b9ad-4769-8c92-a6c4dae69d19",
    "_uuid": "8f2839f25d086af736a60e9eeb907d3b93b6e0e5",
    "execution": {
     "iopub.execute_input": "2024-08-22T15:26:33.481784Z",
     "iopub.status.busy": "2024-08-22T15:26:33.480713Z",
     "iopub.status.idle": "2024-08-22T15:26:35.654586Z",
     "shell.execute_reply": "2024-08-22T15:26:35.653028Z"
    },
    "papermill": {
     "duration": 2.181323,
     "end_time": "2024-08-22T15:26:35.657463",
     "exception": false,
     "start_time": "2024-08-22T15:26:33.476140",
     "status": "completed"
    },
    "tags": []
   },
   "outputs": [
    {
     "name": "stdout",
     "output_type": "stream",
     "text": [
      "There is something far more powerful than fear.\n",
      "Its the force.\n",
      "Let me show you how strong it is.\n",
      "['There', 'is', 'something', 'far', 'more', 'powerful', 'than', 'fear', '.', 'Its', 'the', 'force', '.', 'Let', 'me', 'show', 'you', 'how', 'strong', 'it', 'is', '.']\n",
      "['There', 'is', 'something', 'far', 'more', 'powerful', 'than', 'fear', '.', 'Its', 'the', 'force', '.', 'Let', 'me', 'show', 'you', 'how', 'strong', 'it', 'is', '.']\n"
     ]
    },
    {
     "data": {
      "text/plain": [
       "['There',\n",
       " 'is',\n",
       " 'something',\n",
       " 'far',\n",
       " 'more',\n",
       " 'powerful',\n",
       " 'than',\n",
       " 'fear.',\n",
       " 'Its',\n",
       " 'the',\n",
       " 'force.',\n",
       " 'Let',\n",
       " 'me',\n",
       " 'show',\n",
       " 'you',\n",
       " 'how',\n",
       " 'strong',\n",
       " 'it',\n",
       " 'is',\n",
       " '.']"
      ]
     },
     "execution_count": 1,
     "metadata": {},
     "output_type": "execute_result"
    }
   ],
   "source": [
    "#Tokenizing\n",
    "\n",
    "from nltk.tokenize import sent_tokenize\n",
    "from nltk.tokenize import word_tokenize\n",
    "from nltk.tokenize import wordpunct_tokenize\n",
    "from nltk.tokenize import TreebankWordTokenizer\n",
    "\n",
    "tokenizer = TreebankWordTokenizer()\n",
    "\n",
    "corpus = \"There is something far more powerful than fear. Its the force. Let me show you how strong it is.\"\n",
    "\n",
    "documents = sent_tokenize(corpus)\n",
    "\n",
    "for sentence in documents:\n",
    "    print(sentence)\n",
    "    \n",
    "words = word_tokenize(corpus)\n",
    "\n",
    "print(words)\n",
    "\n",
    "print(wordpunct_tokenize(corpus))\n",
    "\n",
    "tokenizer.tokenize(corpus)"
   ]
  },
  {
   "cell_type": "code",
   "execution_count": 2,
   "id": "6bcdace9",
   "metadata": {
    "execution": {
     "iopub.execute_input": "2024-08-22T15:26:35.665637Z",
     "iopub.status.busy": "2024-08-22T15:26:35.665212Z",
     "iopub.status.idle": "2024-08-22T15:26:35.673520Z",
     "shell.execute_reply": "2024-08-22T15:26:35.672404Z"
    },
    "papermill": {
     "duration": 0.0157,
     "end_time": "2024-08-22T15:26:35.676568",
     "exception": false,
     "start_time": "2024-08-22T15:26:35.660868",
     "status": "completed"
    },
    "tags": []
   },
   "outputs": [
    {
     "name": "stdout",
     "output_type": "stream",
     "text": [
      "eating--->eat\n",
      "eaten--->eaten\n",
      "eats--->eat\n",
      "writing--->write\n",
      "writes--->write\n"
     ]
    }
   ],
   "source": [
    "#Stemming \n",
    "\n",
    "from nltk.stem import PorterStemmer\n",
    "from nltk.stem import RegexpStemmer\n",
    "words = [\"eating\", \"eaten\", \"eats\", \"writing\", \"writes\"]\n",
    "\n",
    "#Stemmer = PorterStemmer()\n",
    "\n",
    "#for word in words:\n",
    "  #  print(word + \"--->\" + Stemmer.stem(word) )\n",
    "    \n",
    "Reg_Stemmer = RegexpStemmer(\"ing|s$|ed$|able$\", min=4)\n",
    "\n",
    "Reg_Stemmer.stem(\"educatable\")\n",
    "\n",
    "from nltk.stem import SnowballStemmer\n",
    "\n",
    "snowballstemmer = SnowballStemmer(\"english\")\n",
    "\n",
    "for word in words:\n",
    "    print(word + \"--->\" + snowballstemmer.stem(word) )"
   ]
  },
  {
   "cell_type": "code",
   "execution_count": null,
   "id": "e6b94a82",
   "metadata": {
    "papermill": {
     "duration": 0.002586,
     "end_time": "2024-08-22T15:26:35.682185",
     "exception": false,
     "start_time": "2024-08-22T15:26:35.679599",
     "status": "completed"
    },
    "tags": []
   },
   "outputs": [],
   "source": []
  },
  {
   "cell_type": "code",
   "execution_count": null,
   "id": "c6f89bc2",
   "metadata": {
    "papermill": {
     "duration": 0.002461,
     "end_time": "2024-08-22T15:26:35.687405",
     "exception": false,
     "start_time": "2024-08-22T15:26:35.684944",
     "status": "completed"
    },
    "tags": []
   },
   "outputs": [],
   "source": []
  }
 ],
 "metadata": {
  "kaggle": {
   "accelerator": "none",
   "dataSources": [],
   "dockerImageVersionId": 30698,
   "isGpuEnabled": false,
   "isInternetEnabled": true,
   "language": "python",
   "sourceType": "notebook"
  },
  "kernelspec": {
   "display_name": "Python 3",
   "language": "python",
   "name": "python3"
  },
  "language_info": {
   "codemirror_mode": {
    "name": "ipython",
    "version": 3
   },
   "file_extension": ".py",
   "mimetype": "text/x-python",
   "name": "python",
   "nbconvert_exporter": "python",
   "pygments_lexer": "ipython3",
   "version": "3.10.13"
  },
  "papermill": {
   "default_parameters": {},
   "duration": 6.453244,
   "end_time": "2024-08-22T15:26:36.211433",
   "environment_variables": {},
   "exception": null,
   "input_path": "__notebook__.ipynb",
   "output_path": "__notebook__.ipynb",
   "parameters": {},
   "start_time": "2024-08-22T15:26:29.758189",
   "version": "2.5.0"
  }
 },
 "nbformat": 4,
 "nbformat_minor": 5
}
